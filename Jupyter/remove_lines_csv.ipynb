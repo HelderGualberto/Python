{
 "cells": [
  {
   "cell_type": "code",
   "execution_count": 1,
   "metadata": {},
   "outputs": [],
   "source": [
    "import numpy as np"
   ]
  },
  {
   "cell_type": "code",
   "execution_count": 102,
   "metadata": {},
   "outputs": [],
   "source": [
    "esp = open('./Documents/esp.csv')\n",
    "tpl = open('./Documents/tpl.csv')"
   ]
  },
  {
   "cell_type": "code",
   "execution_count": 103,
   "metadata": {},
   "outputs": [
    {
     "name": "stdout",
     "output_type": "stream",
     "text": [
      "10080 10080\n"
     ]
    }
   ],
   "source": [
    "import datetime\n",
    "\n",
    "dt = datetime.datetime(2018, 3, 9, 13, 14)\n",
    "end = datetime.datetime(2018, 3, 16, 13, 14)\n",
    "step = datetime.timedelta(seconds=60)\n",
    "\n",
    "esp_data = {}\n",
    "tpl_data = {}\n",
    "\n",
    "while dt < end:\n",
    "    t = dt.strftime('%Y/%m/%d %H:%M')\n",
    "    esp_data.update({t:'0'})\n",
    "    tpl_data.update({t:'0'})\n",
    "    dt += step\n",
    "\n",
    "print(len(esp_data), len(tpl_data))\n"
   ]
  },
  {
   "cell_type": "code",
   "execution_count": 104,
   "metadata": {},
   "outputs": [],
   "source": [
    "out = open('./Documents/out.csv','w')\n",
    "\n",
    "for l in esp:\n",
    "    esp_data.update({l.split(',')[0]:l.split(',')[2].replace('\\n','')})\n",
    "\n",
    "for l in tpl:\n",
    "    tpl_data.update({l.split(',')[0]:l.split(',')[2].replace('\\n','')})\n",
    "    \n",
    "for key in esp_data:\n",
    "    s = '{},2C:3A:E8:14:C0:94,{},84:16:F9:AC:4D:0E,{}\\n'.format(key,esp_data[key],tpl_data[key])\n",
    "    out.write(s)\n",
    "out.close()\n"
   ]
  },
  {
   "cell_type": "code",
   "execution_count": 86,
   "metadata": {},
   "outputs": [
    {
     "data": {
      "text/plain": [
       "9765"
      ]
     },
     "execution_count": 86,
     "metadata": {},
     "output_type": "execute_result"
    }
   ],
   "source": []
  },
  {
   "cell_type": "code",
   "execution_count": 105,
   "metadata": {},
   "outputs": [],
   "source": []
  },
  {
   "cell_type": "code",
   "execution_count": null,
   "metadata": {},
   "outputs": [],
   "source": []
  }
 ],
 "metadata": {
  "kernelspec": {
   "display_name": "Python 3",
   "language": "python",
   "name": "python3"
  },
  "language_info": {
   "codemirror_mode": {
    "name": "ipython",
    "version": 3
   },
   "file_extension": ".py",
   "mimetype": "text/x-python",
   "name": "python",
   "nbconvert_exporter": "python",
   "pygments_lexer": "ipython3",
   "version": "3.6.3"
  }
 },
 "nbformat": 4,
 "nbformat_minor": 2
}
